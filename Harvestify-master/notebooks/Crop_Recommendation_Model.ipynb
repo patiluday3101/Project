{
 "cells": [
  {
   "cell_type": "code",
   "execution_count": 22,
   "metadata": {},
   "outputs": [],
   "source": [
    "# Importing libraries\n",
    "\n",
    "\n",
    "from __future__ import print_function\n",
    "import pandas as pd\n",
    "import numpy as np\n",
    "import matplotlib.pyplot as plt\n",
    "import seaborn as sns\n",
    "from sklearn.metrics import classification_report\n",
    "from sklearn import metrics\n",
    "from sklearn import tree\n",
    "import warnings\n",
    "warnings.filterwarnings('ignore')"
   ]
  },
  {
   "cell_type": "code",
   "execution_count": 23,
   "metadata": {},
   "outputs": [],
   "source": [
    "df = pd.read_csv('C:\\\\Users\\Computer Point\\Desktop\\Harvestify-master\\Data-processed\\crop_recommendation.csv')"
   ]
  },
  {
   "cell_type": "code",
   "execution_count": 24,
   "metadata": {},
   "outputs": [
    {
     "data": {
      "text/html": [
       "<div>\n",
       "<style scoped>\n",
       "    .dataframe tbody tr th:only-of-type {\n",
       "        vertical-align: middle;\n",
       "    }\n",
       "\n",
       "    .dataframe tbody tr th {\n",
       "        vertical-align: top;\n",
       "    }\n",
       "\n",
       "    .dataframe thead th {\n",
       "        text-align: right;\n",
       "    }\n",
       "</style>\n",
       "<table border=\"1\" class=\"dataframe\">\n",
       "  <thead>\n",
       "    <tr style=\"text-align: right;\">\n",
       "      <th></th>\n",
       "      <th>N</th>\n",
       "      <th>P</th>\n",
       "      <th>K</th>\n",
       "      <th>temperature</th>\n",
       "      <th>humidity</th>\n",
       "      <th>ph</th>\n",
       "      <th>rainfall</th>\n",
       "      <th>label</th>\n",
       "    </tr>\n",
       "  </thead>\n",
       "  <tbody>\n",
       "    <tr>\n",
       "      <th>0</th>\n",
       "      <td>90</td>\n",
       "      <td>42</td>\n",
       "      <td>43</td>\n",
       "      <td>20.879744</td>\n",
       "      <td>82.002744</td>\n",
       "      <td>6.502985</td>\n",
       "      <td>202.935536</td>\n",
       "      <td>rice</td>\n",
       "    </tr>\n",
       "    <tr>\n",
       "      <th>1</th>\n",
       "      <td>85</td>\n",
       "      <td>58</td>\n",
       "      <td>41</td>\n",
       "      <td>21.770462</td>\n",
       "      <td>80.319644</td>\n",
       "      <td>7.038096</td>\n",
       "      <td>226.655537</td>\n",
       "      <td>rice</td>\n",
       "    </tr>\n",
       "    <tr>\n",
       "      <th>2</th>\n",
       "      <td>60</td>\n",
       "      <td>55</td>\n",
       "      <td>44</td>\n",
       "      <td>23.004459</td>\n",
       "      <td>82.320763</td>\n",
       "      <td>7.840207</td>\n",
       "      <td>263.964248</td>\n",
       "      <td>rice</td>\n",
       "    </tr>\n",
       "    <tr>\n",
       "      <th>3</th>\n",
       "      <td>74</td>\n",
       "      <td>35</td>\n",
       "      <td>40</td>\n",
       "      <td>26.491096</td>\n",
       "      <td>80.158363</td>\n",
       "      <td>6.980401</td>\n",
       "      <td>242.864034</td>\n",
       "      <td>rice</td>\n",
       "    </tr>\n",
       "    <tr>\n",
       "      <th>4</th>\n",
       "      <td>78</td>\n",
       "      <td>42</td>\n",
       "      <td>42</td>\n",
       "      <td>20.130175</td>\n",
       "      <td>81.604873</td>\n",
       "      <td>7.628473</td>\n",
       "      <td>262.717340</td>\n",
       "      <td>rice</td>\n",
       "    </tr>\n",
       "  </tbody>\n",
       "</table>\n",
       "</div>"
      ],
      "text/plain": [
       "    N   P   K  temperature   humidity        ph    rainfall label\n",
       "0  90  42  43    20.879744  82.002744  6.502985  202.935536  rice\n",
       "1  85  58  41    21.770462  80.319644  7.038096  226.655537  rice\n",
       "2  60  55  44    23.004459  82.320763  7.840207  263.964248  rice\n",
       "3  74  35  40    26.491096  80.158363  6.980401  242.864034  rice\n",
       "4  78  42  42    20.130175  81.604873  7.628473  262.717340  rice"
      ]
     },
     "execution_count": 24,
     "metadata": {},
     "output_type": "execute_result"
    }
   ],
   "source": [
    "df.head()"
   ]
  },
  {
   "cell_type": "code",
   "execution_count": 25,
   "metadata": {},
   "outputs": [
    {
     "data": {
      "text/html": [
       "<div>\n",
       "<style scoped>\n",
       "    .dataframe tbody tr th:only-of-type {\n",
       "        vertical-align: middle;\n",
       "    }\n",
       "\n",
       "    .dataframe tbody tr th {\n",
       "        vertical-align: top;\n",
       "    }\n",
       "\n",
       "    .dataframe thead th {\n",
       "        text-align: right;\n",
       "    }\n",
       "</style>\n",
       "<table border=\"1\" class=\"dataframe\">\n",
       "  <thead>\n",
       "    <tr style=\"text-align: right;\">\n",
       "      <th></th>\n",
       "      <th>N</th>\n",
       "      <th>P</th>\n",
       "      <th>K</th>\n",
       "      <th>temperature</th>\n",
       "      <th>humidity</th>\n",
       "      <th>ph</th>\n",
       "      <th>rainfall</th>\n",
       "      <th>label</th>\n",
       "    </tr>\n",
       "  </thead>\n",
       "  <tbody>\n",
       "    <tr>\n",
       "      <th>2195</th>\n",
       "      <td>107</td>\n",
       "      <td>34</td>\n",
       "      <td>32</td>\n",
       "      <td>26.774637</td>\n",
       "      <td>66.413269</td>\n",
       "      <td>6.780064</td>\n",
       "      <td>177.774507</td>\n",
       "      <td>coffee</td>\n",
       "    </tr>\n",
       "    <tr>\n",
       "      <th>2196</th>\n",
       "      <td>99</td>\n",
       "      <td>15</td>\n",
       "      <td>27</td>\n",
       "      <td>27.417112</td>\n",
       "      <td>56.636362</td>\n",
       "      <td>6.086922</td>\n",
       "      <td>127.924610</td>\n",
       "      <td>coffee</td>\n",
       "    </tr>\n",
       "    <tr>\n",
       "      <th>2197</th>\n",
       "      <td>118</td>\n",
       "      <td>33</td>\n",
       "      <td>30</td>\n",
       "      <td>24.131797</td>\n",
       "      <td>67.225123</td>\n",
       "      <td>6.362608</td>\n",
       "      <td>173.322839</td>\n",
       "      <td>coffee</td>\n",
       "    </tr>\n",
       "    <tr>\n",
       "      <th>2198</th>\n",
       "      <td>117</td>\n",
       "      <td>32</td>\n",
       "      <td>34</td>\n",
       "      <td>26.272418</td>\n",
       "      <td>52.127394</td>\n",
       "      <td>6.758793</td>\n",
       "      <td>127.175293</td>\n",
       "      <td>coffee</td>\n",
       "    </tr>\n",
       "    <tr>\n",
       "      <th>2199</th>\n",
       "      <td>104</td>\n",
       "      <td>18</td>\n",
       "      <td>30</td>\n",
       "      <td>23.603016</td>\n",
       "      <td>60.396475</td>\n",
       "      <td>6.779833</td>\n",
       "      <td>140.937041</td>\n",
       "      <td>coffee</td>\n",
       "    </tr>\n",
       "  </tbody>\n",
       "</table>\n",
       "</div>"
      ],
      "text/plain": [
       "        N   P   K  temperature   humidity        ph    rainfall   label\n",
       "2195  107  34  32    26.774637  66.413269  6.780064  177.774507  coffee\n",
       "2196   99  15  27    27.417112  56.636362  6.086922  127.924610  coffee\n",
       "2197  118  33  30    24.131797  67.225123  6.362608  173.322839  coffee\n",
       "2198  117  32  34    26.272418  52.127394  6.758793  127.175293  coffee\n",
       "2199  104  18  30    23.603016  60.396475  6.779833  140.937041  coffee"
      ]
     },
     "execution_count": 25,
     "metadata": {},
     "output_type": "execute_result"
    }
   ],
   "source": [
    "df.tail()"
   ]
  },
  {
   "cell_type": "code",
   "execution_count": 26,
   "metadata": {},
   "outputs": [
    {
     "data": {
      "text/plain": [
       "17600"
      ]
     },
     "execution_count": 26,
     "metadata": {},
     "output_type": "execute_result"
    }
   ],
   "source": [
    "df.size"
   ]
  },
  {
   "cell_type": "code",
   "execution_count": 27,
   "metadata": {},
   "outputs": [
    {
     "data": {
      "text/plain": [
       "(2200, 8)"
      ]
     },
     "execution_count": 27,
     "metadata": {},
     "output_type": "execute_result"
    }
   ],
   "source": [
    "df.shape"
   ]
  },
  {
   "cell_type": "code",
   "execution_count": 28,
   "metadata": {},
   "outputs": [
    {
     "data": {
      "text/plain": [
       "Index(['N', 'P', 'K', 'temperature', 'humidity', 'ph', 'rainfall', 'label'], dtype='object')"
      ]
     },
     "execution_count": 28,
     "metadata": {},
     "output_type": "execute_result"
    }
   ],
   "source": [
    "df.columns"
   ]
  },
  {
   "cell_type": "code",
   "execution_count": 29,
   "metadata": {},
   "outputs": [
    {
     "data": {
      "text/plain": [
       "array(['rice', 'maize', 'chickpea', 'kidneybeans', 'pigeonpeas',\n",
       "       'mothbeans', 'mungbean', 'blackgram', 'lentil', 'pomegranate',\n",
       "       'banana', 'mango', 'grapes', 'watermelon', 'muskmelon', 'apple',\n",
       "       'orange', 'papaya', 'coconut', 'cotton', 'jute', 'coffee'],\n",
       "      dtype=object)"
      ]
     },
     "execution_count": 29,
     "metadata": {},
     "output_type": "execute_result"
    }
   ],
   "source": [
    "df['label'].unique()"
   ]
  },
  {
   "cell_type": "code",
   "execution_count": 30,
   "metadata": {},
   "outputs": [
    {
     "data": {
      "text/plain": [
       "N                int64\n",
       "P                int64\n",
       "K                int64\n",
       "temperature    float64\n",
       "humidity       float64\n",
       "ph             float64\n",
       "rainfall       float64\n",
       "label           object\n",
       "dtype: object"
      ]
     },
     "execution_count": 30,
     "metadata": {},
     "output_type": "execute_result"
    }
   ],
   "source": [
    "df.dtypes"
   ]
  },
  {
   "cell_type": "code",
   "execution_count": 31,
   "metadata": {},
   "outputs": [
    {
     "data": {
      "text/plain": [
       "label\n",
       "rice           100\n",
       "maize          100\n",
       "chickpea       100\n",
       "kidneybeans    100\n",
       "pigeonpeas     100\n",
       "mothbeans      100\n",
       "mungbean       100\n",
       "blackgram      100\n",
       "lentil         100\n",
       "pomegranate    100\n",
       "banana         100\n",
       "mango          100\n",
       "grapes         100\n",
       "watermelon     100\n",
       "muskmelon      100\n",
       "apple          100\n",
       "orange         100\n",
       "papaya         100\n",
       "coconut        100\n",
       "cotton         100\n",
       "jute           100\n",
       "coffee         100\n",
       "Name: count, dtype: int64"
      ]
     },
     "execution_count": 31,
     "metadata": {},
     "output_type": "execute_result"
    }
   ],
   "source": [
    "df['label'].value_counts()"
   ]
  },
  {
   "cell_type": "code",
   "execution_count": 32,
   "metadata": {},
   "outputs": [
    {
     "data": {
      "text/plain": [
       "0       20\n",
       "1       20\n",
       "2       20\n",
       "3       20\n",
       "4       20\n",
       "        ..\n",
       "2195     5\n",
       "2196     5\n",
       "2197     5\n",
       "2198     5\n",
       "2199     5\n",
       "Name: label, Length: 2200, dtype: int64"
      ]
     },
     "execution_count": 32,
     "metadata": {},
     "output_type": "execute_result"
    }
   ],
   "source": [
    "from sklearn.preprocessing import LabelEncoder\n",
    "label_encoder = LabelEncoder()\n",
    "label_encoder.fit_transform(df[['label']])\n",
    "df['label'] = label_encoder.fit_transform(df[['label']])\n",
    "df['label']"
   ]
  },
  {
   "cell_type": "code",
   "execution_count": 33,
   "metadata": {},
   "outputs": [
    {
     "data": {
      "text/plain": [
       "<Axes: >"
      ]
     },
     "execution_count": 33,
     "metadata": {},
     "output_type": "execute_result"
    },
    {
     "data": {
      "image/png": "[encoded data removed]",
      "text/plain": [
       "<Figure size 640x480 with 2 Axes>"
      ]
     },
     "metadata": {},
     "output_type": "display_data"
    }
   ],
   "source": [
    "sns.heatmap(df.corr(),annot=True)"
   ]
  },
  {
   "cell_type": "markdown",
   "metadata": {},
   "source": [
    "### Seperating features and target label"
   ]
  },
  {
   "cell_type": "code",
   "execution_count": 34,
   "metadata": {},
   "outputs": [],
   "source": [
    "features = df[['N', 'P','K','temperature', 'humidity', 'ph', 'rainfall']]\n",
    "target = df['label']\n",
    "#features = df[['temperature', 'humidity', 'ph', 'rainfall']]\n",
    "labels = df['label']"
   ]
  },
  {
   "cell_type": "code",
   "execution_count": 35,
   "metadata": {},
   "outputs": [],
   "source": [
    "# Initialzing empty lists to append all model's name and corresponding name\n",
    "acc = []\n",
    "model = []"
   ]
  },
  {
   "cell_type": "code",
   "execution_count": 36,
   "metadata": {},
   "outputs": [],
   "source": [
    "# Splitting into train and test data\n",
    "\n",
    "from sklearn.model_selection import train_test_split\n",
    "Xtrain, Xtest, Ytrain, Ytest = train_test_split(features,target,test_size = 0.2,random_state =2)"
   ]
  },
  {
   "cell_type": "markdown",
   "metadata": {},
   "source": [
    "# Decision Tree"
   ]
  },
  {
   "cell_type": "code",
   "execution_count": 37,
   "metadata": {},
   "outputs": [
    {
     "name": "stdout",
     "output_type": "stream",
     "text": [
      "DecisionTrees's Accuracy is:  90.0\n",
      "              precision    recall  f1-score   support\n",
      "\n",
      "           0       1.00      1.00      1.00        13\n",
      "           1       1.00      1.00      1.00        17\n",
      "           2       0.59      1.00      0.74        16\n",
      "           3       1.00      1.00      1.00        21\n",
      "           4       0.91      1.00      0.95        21\n",
      "           5       1.00      1.00      1.00        22\n",
      "           6       1.00      1.00      1.00        20\n",
      "           7       1.00      1.00      1.00        18\n",
      "           8       0.74      0.93      0.83        28\n",
      "           9       0.00      0.00      0.00        14\n",
      "          10       0.68      1.00      0.81        23\n",
      "          11       1.00      1.00      1.00        21\n",
      "          12       1.00      1.00      1.00        26\n",
      "          13       0.00      0.00      0.00        19\n",
      "          14       1.00      1.00      1.00        24\n",
      "          15       1.00      1.00      1.00        23\n",
      "          16       1.00      1.00      1.00        29\n",
      "          17       1.00      0.84      0.91        19\n",
      "          18       0.62      1.00      0.77        18\n",
      "          19       1.00      1.00      1.00        17\n",
      "          20       1.00      0.62      0.77        16\n",
      "          21       1.00      1.00      1.00        15\n",
      "\n",
      "    accuracy                           0.90       440\n",
      "   macro avg       0.84      0.88      0.85       440\n",
      "weighted avg       0.86      0.90      0.87       440\n",
      "\n"
     ]
    }
   ],
   "source": [
    "from sklearn.tree import DecisionTreeClassifier\n",
    "\n",
    "DecisionTree = DecisionTreeClassifier(criterion=\"entropy\",random_state=2,max_depth=5)\n",
    "\n",
    "DecisionTree.fit(Xtrain,Ytrain)\n",
    "\n",
    "predicted_values = DecisionTree.predict(Xtest)\n",
    "x = metrics.accuracy_score(Ytest, predicted_values)\n",
    "acc.append(x)\n",
    "model.append('Decision Tree')\n",
    "print(\"DecisionTrees's Accuracy is: \", x*100)\n",
    "\n",
    "print(classification_report(Ytest,predicted_values))"
   ]
  },
  {
   "cell_type": "code",
   "execution_count": 38,
   "metadata": {},
   "outputs": [],
   "source": [
    "from sklearn.model_selection import cross_val_score"
   ]
  },
  {
   "cell_type": "code",
   "execution_count": 39,
   "metadata": {},
   "outputs": [],
   "source": [
    "# Cross validation score (Decision Tree)\n",
    "score = cross_val_score(DecisionTree, features, target,cv=5)"
   ]
  },
  {
   "cell_type": "code",
   "execution_count": 40,
   "metadata": {},
   "outputs": [
    {
     "data": {
      "text/plain": [
       "array([0.93636364, 0.90909091, 0.91818182, 0.87045455, 0.93636364])"
      ]
     },
     "execution_count": 40,
     "metadata": {},
     "output_type": "execute_result"
    }
   ],
   "source": [
    "score"
   ]
  },
  {
   "cell_type": "markdown",
   "metadata": {},
   "source": [
    "### Saving trained Decision Tree model"
   ]
  },
  {
   "cell_type": "code",
   "execution_count": 41,
   "metadata": {},
   "outputs": [],
   "source": [
    "import pickle\n",
    "# Dump the trained Naive Bayes classifier with Pickle\n",
    "DT_pkl_filename = '../models/DecisionTree.pkl'\n",
    "# Open the file to save as pkl file\n",
    "DT_Model_pkl = open(DT_pkl_filename, 'wb')\n",
    "pickle.dump(DecisionTree, DT_Model_pkl)\n",
    "# Close the pickle instances\n",
    "DT_Model_pkl.close()"
   ]
  },
  {
   "cell_type": "markdown",
   "metadata": {},
   "source": [
    "# Guassian Naive Bayes"
   ]
  },
  {
   "cell_type": "code",
   "execution_count": 42,
   "metadata": {},
   "outputs": [
    {
     "name": "stdout",
     "output_type": "stream",
     "text": [
      "Naive Bayes's Accuracy is:  0.990909090909091\n",
      "              precision    recall  f1-score   support\n",
      "\n",
      "           0       1.00      1.00      1.00        13\n",
      "           1       1.00      1.00      1.00        17\n",
      "           2       1.00      1.00      1.00        16\n",
      "           3       1.00      1.00      1.00        21\n",
      "           4       1.00      1.00      1.00        21\n",
      "           5       1.00      1.00      1.00        22\n",
      "           6       1.00      1.00      1.00        20\n",
      "           7       1.00      1.00      1.00        18\n",
      "           8       0.88      1.00      0.93        28\n",
      "           9       1.00      1.00      1.00        14\n",
      "          10       1.00      1.00      1.00        23\n",
      "          11       1.00      1.00      1.00        21\n",
      "          12       1.00      1.00      1.00        26\n",
      "          13       1.00      1.00      1.00        19\n",
      "          14       1.00      1.00      1.00        24\n",
      "          15       1.00      1.00      1.00        23\n",
      "          16       1.00      1.00      1.00        29\n",
      "          17       1.00      1.00      1.00        19\n",
      "          18       1.00      1.00      1.00        18\n",
      "          19       1.00      1.00      1.00        17\n",
      "          20       1.00      0.75      0.86        16\n",
      "          21       1.00      1.00      1.00        15\n",
      "\n",
      "    accuracy                           0.99       440\n",
      "   macro avg       0.99      0.99      0.99       440\n",
      "weighted avg       0.99      0.99      0.99       440\n",
      "\n"
     ]
    }
   ],
   "source": [
    "from sklearn.naive_bayes import GaussianNB\n",
    "\n",
    "NaiveBayes = GaussianNB()\n",
    "\n",
    "NaiveBayes.fit(Xtrain,Ytrain)\n",
    "\n",
    "predicted_values = NaiveBayes.predict(Xtest)\n",
    "x = metrics.accuracy_score(Ytest, predicted_values)\n",
    "acc.append(x)\n",
    "model.append('Naive Bayes')\n",
    "print(\"Naive Bayes's Accuracy is: \", x)\n",
    "\n",
    "print(classification_report(Ytest,predicted_values))"
   ]
  },
  {
   "cell_type": "code",
   "execution_count": 43,
   "metadata": {},
   "outputs": [
    {
     "data": {
      "text/plain": [
       "array([0.99772727, 0.99545455, 0.99545455, 0.99545455, 0.99090909])"
      ]
     },
     "execution_count": 43,
     "metadata": {},
     "output_type": "execute_result"
    }
   ],
   "source": [
    "# Cross validation score (NaiveBayes)\n",
    "score = cross_val_score(NaiveBayes,features,target,cv=5)\n",
    "score"
   ]
  },
  {
   "cell_type": "markdown",
   "metadata": {},
   "source": [
    "### Saving trained Guassian Naive Bayes model"
   ]
  },
  {
   "cell_type": "code",
   "execution_count": 44,
   "metadata": {},
   "outputs": [],
   "source": [
    "import pickle\n",
    "# Dump the trained Naive Bayes classifier with Pickle\n",
    "NB_pkl_filename = '../models/NBClassifier.pkl'\n",
    "# Open the file to save as pkl file\n",
    "NB_Model_pkl = open(NB_pkl_filename, 'wb')\n",
    "pickle.dump(NaiveBayes, NB_Model_pkl)\n",
    "# Close the pickle instances\n",
    "NB_Model_pkl.close()"
   ]
  },
  {
   "cell_type": "markdown",
   "metadata": {},
   "source": [
    "# Support Vector Machine (SVM)"
   ]
  },
  {
   "cell_type": "code",
   "execution_count": 45,
   "metadata": {},
   "outputs": [
    {
     "name": "stdout",
     "output_type": "stream",
     "text": [
      "SVM's Accuracy is:  0.9795454545454545\n",
      "              precision    recall  f1-score   support\n",
      "\n",
      "           0       1.00      1.00      1.00        13\n",
      "           1       1.00      1.00      1.00        17\n",
      "           2       1.00      1.00      1.00        16\n",
      "           3       1.00      1.00      1.00        21\n",
      "           4       1.00      1.00      1.00        21\n",
      "           5       1.00      0.95      0.98        22\n",
      "           6       0.95      1.00      0.98        20\n",
      "           7       1.00      1.00      1.00        18\n",
      "           8       0.83      0.89      0.86        28\n",
      "           9       1.00      1.00      1.00        14\n",
      "          10       1.00      1.00      1.00        23\n",
      "          11       1.00      0.95      0.98        21\n",
      "          12       1.00      1.00      1.00        26\n",
      "          13       1.00      1.00      1.00        19\n",
      "          14       1.00      1.00      1.00        24\n",
      "          15       1.00      1.00      1.00        23\n",
      "          16       1.00      1.00      1.00        29\n",
      "          17       1.00      1.00      1.00        19\n",
      "          18       1.00      1.00      1.00        18\n",
      "          19       1.00      1.00      1.00        17\n",
      "          20       0.80      0.75      0.77        16\n",
      "          21       1.00      1.00      1.00        15\n",
      "\n",
      "    accuracy                           0.98       440\n",
      "   macro avg       0.98      0.98      0.98       440\n",
      "weighted avg       0.98      0.98      0.98       440\n",
      "\n"
     ]
    }
   ],
   "source": [
    "from sklearn.svm import SVC\n",
    "# data normalization with sklearn\n",
    "from sklearn.preprocessing import MinMaxScaler\n",
    "# fit scaler on training data\n",
    "norm = MinMaxScaler().fit(Xtrain)\n",
    "X_train_norm = norm.transform(Xtrain)\n",
    "# transform testing dataabs\n",
    "X_test_norm = norm.transform(Xtest)\n",
    "SVM = SVC(kernel='poly', degree=3, C=1)\n",
    "SVM.fit(X_train_norm,Ytrain)\n",
    "predicted_values = SVM.predict(X_test_norm)\n",
    "x = metrics.accuracy_score(Ytest, predicted_values)\n",
    "acc.append(x)\n",
    "model.append('SVM')\n",
    "print(\"SVM's Accuracy is: \", x)\n",
    "\n",
    "print(classification_report(Ytest,predicted_values))"
   ]
  },
  {
   "cell_type": "code",
   "execution_count": 46,
   "metadata": {},
   "outputs": [
    {
     "data": {
      "text/plain": [
       "array([0.97954545, 0.975     , 0.98863636, 0.98863636, 0.98181818])"
      ]
     },
     "execution_count": 46,
     "metadata": {},
     "output_type": "execute_result"
    }
   ],
   "source": [
    "# Cross validation score (SVM)\n",
    "score = cross_val_score(SVM,features,target,cv=5)\n",
    "score"
   ]
  },
  {
   "cell_type": "code",
   "execution_count": 47,
   "metadata": {},
   "outputs": [],
   "source": [
    "#Saving trained SVM model"
   ]
  },
  {
   "cell_type": "code",
   "execution_count": 48,
   "metadata": {},
   "outputs": [],
   "source": [
    "import pickle\n",
    "# Dump the trained SVM classifier with Pickle\n",
    "SVM_pkl_filename = '../models/SVMClassifier.pkl'\n",
    "# Open the file to save as pkl file\n",
    "SVM_Model_pkl = open(SVM_pkl_filename, 'wb')\n",
    "pickle.dump(SVM, SVM_Model_pkl)\n",
    "# Close the pickle instances\n",
    "SVM_Model_pkl.close()"
   ]
  },
  {
   "cell_type": "markdown",
   "metadata": {},
   "source": [
    "# Logistic Regression"
   ]
  },
  {
   "cell_type": "code",
   "execution_count": 49,
   "metadata": {},
   "outputs": [
    {
     "name": "stdout",
     "output_type": "stream",
     "text": [
      "Logistic Regression's Accuracy is:  0.9522727272727273\n",
      "              precision    recall  f1-score   support\n",
      "\n",
      "           0       1.00      1.00      1.00        13\n",
      "           1       1.00      1.00      1.00        17\n",
      "           2       0.86      0.75      0.80        16\n",
      "           3       1.00      1.00      1.00        21\n",
      "           4       1.00      1.00      1.00        21\n",
      "           5       1.00      1.00      1.00        22\n",
      "           6       0.86      0.90      0.88        20\n",
      "           7       1.00      1.00      1.00        18\n",
      "           8       0.84      0.93      0.88        28\n",
      "           9       1.00      1.00      1.00        14\n",
      "          10       0.88      1.00      0.94        23\n",
      "          11       0.90      0.86      0.88        21\n",
      "          12       0.96      1.00      0.98        26\n",
      "          13       0.84      0.84      0.84        19\n",
      "          14       1.00      0.96      0.98        24\n",
      "          15       1.00      1.00      1.00        23\n",
      "          16       1.00      1.00      1.00        29\n",
      "          17       1.00      0.95      0.97        19\n",
      "          18       1.00      1.00      1.00        18\n",
      "          19       1.00      1.00      1.00        17\n",
      "          20       0.85      0.69      0.76        16\n",
      "          21       1.00      1.00      1.00        15\n",
      "\n",
      "    accuracy                           0.95       440\n",
      "   macro avg       0.95      0.95      0.95       440\n",
      "weighted avg       0.95      0.95      0.95       440\n",
      "\n"
     ]
    }
   ],
   "source": [
    "from sklearn.linear_model import LogisticRegression\n",
    "\n",
    "LogReg = LogisticRegression(random_state=2)\n",
    "\n",
    "LogReg.fit(Xtrain,Ytrain)\n",
    "\n",
    "predicted_values = LogReg.predict(Xtest)\n",
    "\n",
    "x = metrics.accuracy_score(Ytest, predicted_values)\n",
    "acc.append(x)\n",
    "model.append('Logistic Regression')\n",
    "print(\"Logistic Regression's Accuracy is: \", x)\n",
    "\n",
    "print(classification_report(Ytest,predicted_values))"
   ]
  },
  {
   "cell_type": "code",
   "execution_count": 50,
   "metadata": {},
   "outputs": [
    {
     "data": {
      "text/plain": [
       "array([0.95      , 0.96590909, 0.94772727, 0.96590909, 0.94318182])"
      ]
     },
     "execution_count": 50,
     "metadata": {},
     "output_type": "execute_result"
    }
   ],
   "source": [
    "# Cross validation score (Logistic Regression)\n",
    "score = cross_val_score(LogReg,features,target,cv=5)\n",
    "score"
   ]
  },
  {
   "cell_type": "markdown",
   "metadata": {},
   "source": [
    "### Saving trained Logistic Regression model"
   ]
  },
  {
   "cell_type": "code",
   "execution_count": 51,
   "metadata": {},
   "outputs": [],
   "source": [
    "import pickle\n",
    "# Dump the trained Naive Bayes classifier with Pickle\n",
    "LR_pkl_filename = '../models/LogisticRegression.pkl'\n",
    "# Open the file to save as pkl file\n",
    "LR_Model_pkl = open(DT_pkl_filename, 'wb')\n",
    "pickle.dump(LogReg, LR_Model_pkl)\n",
    "# Close the pickle instances\n",
    "LR_Model_pkl.close()"
   ]
  },
  {
   "cell_type": "markdown",
   "metadata": {},
   "source": [
    "# Random Forest"
   ]
  },
  {
   "cell_type": "code",
   "execution_count": 52,
   "metadata": {},
   "outputs": [
    {
     "name": "stdout",
     "output_type": "stream",
     "text": [
      "RF's Accuracy is:  0.990909090909091\n",
      "              precision    recall  f1-score   support\n",
      "\n",
      "           0       1.00      1.00      1.00        13\n",
      "           1       1.00      1.00      1.00        17\n",
      "           2       0.94      1.00      0.97        16\n",
      "           3       1.00      1.00      1.00        21\n",
      "           4       1.00      1.00      1.00        21\n",
      "           5       1.00      1.00      1.00        22\n",
      "           6       1.00      1.00      1.00        20\n",
      "           7       1.00      1.00      1.00        18\n",
      "           8       0.90      1.00      0.95        28\n",
      "           9       1.00      1.00      1.00        14\n",
      "          10       1.00      1.00      1.00        23\n",
      "          11       1.00      1.00      1.00        21\n",
      "          12       1.00      1.00      1.00        26\n",
      "          13       1.00      0.95      0.97        19\n",
      "          14       1.00      1.00      1.00        24\n",
      "          15       1.00      1.00      1.00        23\n",
      "          16       1.00      1.00      1.00        29\n",
      "          17       1.00      1.00      1.00        19\n",
      "          18       1.00      1.00      1.00        18\n",
      "          19       1.00      1.00      1.00        17\n",
      "          20       1.00      0.81      0.90        16\n",
      "          21       1.00      1.00      1.00        15\n",
      "\n",
      "    accuracy                           0.99       440\n",
      "   macro avg       0.99      0.99      0.99       440\n",
      "weighted avg       0.99      0.99      0.99       440\n",
      "\n"
     ]
    }
   ],
   "source": [
    "from sklearn.ensemble import RandomForestClassifier\n",
    "\n",
    "RF = RandomForestClassifier(n_estimators=20, random_state=0)\n",
    "RF.fit(Xtrain,Ytrain)\n",
    "\n",
    "predicted_values = RF.predict(Xtest)\n",
    "\n",
    "x = metrics.accuracy_score(Ytest, predicted_values)\n",
    "acc.append(x)\n",
    "model.append('RF')\n",
    "print(\"RF's Accuracy is: \", x)\n",
    "\n",
    "print(classification_report(Ytest,predicted_values))"
   ]
  },
  {
   "cell_type": "code",
   "execution_count": 53,
   "metadata": {},
   "outputs": [
    {
     "data": {
      "text/plain": [
       "array([0.99772727, 0.99545455, 0.99772727, 0.99318182, 0.98863636])"
      ]
     },
     "execution_count": 53,
     "metadata": {},
     "output_type": "execute_result"
    }
   ],
   "source": [
    "# Cross validation score (Random Forest)\n",
    "score = cross_val_score(RF,features,target,cv=5)\n",
    "score"
   ]
  },
  {
   "cell_type": "markdown",
   "metadata": {},
   "source": [
    "### Saving trained Random Forest model"
   ]
  },
  {
   "cell_type": "code",
   "execution_count": 54,
   "metadata": {},
   "outputs": [],
   "source": [
    "import pickle\n",
    "# Dump the trained Naive Bayes classifier with Pickle\n",
    "RF_pkl_filename = '../models/RandomForest.pkl'\n",
    "# Open the file to save as pkl file\n",
    "RF_Model_pkl = open(RF_pkl_filename, 'wb')\n",
    "pickle.dump(RF, RF_Model_pkl)\n",
    "# Close the pickle instances\n",
    "RF_Model_pkl.close()"
   ]
  },
  {
   "cell_type": "markdown",
   "metadata": {},
   "source": [
    "# XGBoost"
   ]
  },
  {
   "cell_type": "code",
   "execution_count": 56,
   "metadata": {
    "scrolled": true
   },
   "outputs": [
    {
     "name": "stdout",
     "output_type": "stream",
     "text": [
      "Collecting xgboost\n",
      "  Downloading xgboost-2.1.0-py3-none-win_amd64.whl.metadata (2.1 kB)\n",
      "Requirement already satisfied: numpy in c:\\users\\computer point\\appdata\\local\\programs\\python\\python39\\lib\\site-packages (from xgboost) (2.0.0)\n",
      "Requirement already satisfied: scipy in c:\\users\\computer point\\appdata\\local\\programs\\python\\python39\\lib\\site-packages (from xgboost) (1.13.1)\n",
      "Downloading xgboost-2.1.0-py3-none-win_amd64.whl (124.9 MB)\n",
      "   ---------------------------------------- 0.0/124.9 MB ? eta -:--:--\n",
      "   ---------------------------------------- 0.0/124.9 MB 660.6 kB/s eta 0:03:10\n",
      "   ---------------------------------------- 0.1/124.9 MB 1.3 MB/s eta 0:01:36\n",
      "   ---------------------------------------- 0.2/124.9 MB 1.9 MB/s eta 0:01:07\n",
      "   ---------------------------------------- 0.5/124.9 MB 3.1 MB/s eta 0:00:41\n",
      "   ---------------------------------------- 1.1/124.9 MB 4.5 MB/s eta 0:00:28\n",
      "    --------------------------------------- 1.6/124.9 MB 5.7 MB/s eta 0:00:22\n",
      "    --------------------------------------- 2.2/124.9 MB 6.6 MB/s eta 0:00:19\n",
      "    --------------------------------------- 2.4/124.9 MB 6.6 MB/s eta 0:00:19\n",
      "    --------------------------------------- 2.4/124.9 MB 6.6 MB/s eta 0:00:19\n",
      "    --------------------------------------- 2.4/124.9 MB 4.9 MB/s eta 0:00:25\n",
      "    --------------------------------------- 2.5/124.9 MB 5.2 MB/s eta 0:00:24\n",
      "    --------------------------------------- 3.0/124.9 MB 5.3 MB/s eta 0:00:23\n",
      "   - -------------------------------------- 5.1/124.9 MB 8.3 MB/s eta 0:00:15\n",
      "   - -------------------------------------- 5.6/124.9 MB 8.3 MB/s eta 0:00:15\n",
      "   - -------------------------------------- 5.6/124.9 MB 8.3 MB/s eta 0:00:15\n",
      "   -- ------------------------------------- 6.6/124.9 MB 8.6 MB/s eta 0:00:14\n",
      "   -- ------------------------------------- 7.0/124.9 MB 8.5 MB/s eta 0:00:14\n",
      "   -- ------------------------------------- 7.5/124.9 MB 8.5 MB/s eta 0:00:14\n",
      "   -- ------------------------------------- 7.8/124.9 MB 8.6 MB/s eta 0:00:14\n",
      "   -- ------------------------------------- 7.9/124.9 MB 8.3 MB/s eta 0:00:15\n",
      "   -- ------------------------------------- 8.0/124.9 MB 7.9 MB/s eta 0:00:15\n",
      "   -- ------------------------------------- 8.3/124.9 MB 7.9 MB/s eta 0:00:15\n",
      "   -- ------------------------------------- 8.5/124.9 MB 7.6 MB/s eta 0:00:16\n",
      "   -- ------------------------------------- 8.6/124.9 MB 7.7 MB/s eta 0:00:16\n",
      "   -- ------------------------------------- 9.1/124.9 MB 7.4 MB/s eta 0:00:16\n",
      "   -- ------------------------------------- 9.2/124.9 MB 7.4 MB/s eta 0:00:16\n",
      "   --- ------------------------------------ 9.5/124.9 MB 7.2 MB/s eta 0:00:17\n",
      "   --- ------------------------------------ 9.7/124.9 MB 7.1 MB/s eta 0:00:17\n",
      "   --- ------------------------------------ 9.9/124.9 MB 7.0 MB/s eta 0:00:17\n",
      "   --- ------------------------------------ 10.1/124.9 MB 6.9 MB/s eta 0:00:17\n",
      "   --- ------------------------------------ 10.4/124.9 MB 7.2 MB/s eta 0:00:16\n",
      "   --- ------------------------------------ 10.6/124.9 MB 7.3 MB/s eta 0:00:16\n",
      "   --- ------------------------------------ 10.8/124.9 MB 7.4 MB/s eta 0:00:16\n",
      "   --- ------------------------------------ 11.0/124.9 MB 7.2 MB/s eta 0:00:16\n",
      "   --- ------------------------------------ 11.4/124.9 MB 7.0 MB/s eta 0:00:17\n",
      "   --- ------------------------------------ 11.6/124.9 MB 6.8 MB/s eta 0:00:17\n",
      "   --- ------------------------------------ 11.6/124.9 MB 6.7 MB/s eta 0:00:17\n",
      "   --- ------------------------------------ 12.1/124.9 MB 6.5 MB/s eta 0:00:18\n",
      "   --- ------------------------------------ 12.2/124.9 MB 6.4 MB/s eta 0:00:18\n",
      "   --- ------------------------------------ 12.3/124.9 MB 6.2 MB/s eta 0:00:19\n",
      "   ---- ----------------------------------- 12.5/124.9 MB 6.1 MB/s eta 0:00:19\n",
      "   ---- ----------------------------------- 12.7/124.9 MB 6.4 MB/s eta 0:00:18\n",
      "   ---- ----------------------------------- 12.9/124.9 MB 6.5 MB/s eta 0:00:18\n",
      "   ---- ----------------------------------- 13.1/124.9 MB 6.3 MB/s eta 0:00:18\n",
      "   ---- ----------------------------------- 13.3/124.9 MB 6.2 MB/s eta 0:00:19\n",
      "   ---- ----------------------------------- 13.5/124.9 MB 6.0 MB/s eta 0:00:19\n",
      "   ---- ----------------------------------- 13.7/124.9 MB 5.8 MB/s eta 0:00:20\n",
      "   ---- ----------------------------------- 13.9/124.9 MB 5.6 MB/s eta 0:00:20\n",
      "   ---- ----------------------------------- 14.1/124.9 MB 5.5 MB/s eta 0:00:21\n",
      "   ---- ----------------------------------- 14.3/124.9 MB 5.4 MB/s eta 0:00:21\n",
      "   ---- ----------------------------------- 14.5/124.9 MB 5.2 MB/s eta 0:00:22\n",
      "   ---- ----------------------------------- 14.7/124.9 MB 5.1 MB/s eta 0:00:22\n",
      "   ---- ----------------------------------- 15.0/124.9 MB 5.0 MB/s eta 0:00:22\n",
      "   ---- ----------------------------------- 15.2/124.9 MB 4.9 MB/s eta 0:00:23\n",
      "   ---- ----------------------------------- 15.4/124.9 MB 4.8 MB/s eta 0:00:23\n",
      "   ---- ----------------------------------- 15.6/124.9 MB 4.7 MB/s eta 0:00:24\n",
      "   ----- ---------------------------------- 15.7/124.9 MB 4.7 MB/s eta 0:00:24\n",
      "   ----- ---------------------------------- 15.9/124.9 MB 4.7 MB/s eta 0:00:23\n",
      "   ----- ---------------------------------- 16.1/124.9 MB 4.7 MB/s eta 0:00:24\n",
      "   ----- ---------------------------------- 16.4/124.9 MB 4.5 MB/s eta 0:00:24\n",
      "   ----- ---------------------------------- 16.6/124.9 MB 4.5 MB/s eta 0:00:25\n",
      "   ----- ---------------------------------- 16.8/124.9 MB 4.4 MB/s eta 0:00:25\n",
      "   ----- ---------------------------------- 17.0/124.9 MB 4.3 MB/s eta 0:00:25\n",
      "   ----- ---------------------------------- 17.3/124.9 MB 4.3 MB/s eta 0:00:26\n",
      "   ----- ---------------------------------- 17.4/124.9 MB 4.2 MB/s eta 0:00:26\n",
      "   ----- ---------------------------------- 17.7/124.9 MB 4.2 MB/s eta 0:00:26\n",
      "   ----- ---------------------------------- 17.9/124.9 MB 4.1 MB/s eta 0:00:26\n",
      "   ----- ---------------------------------- 18.1/124.9 MB 4.2 MB/s eta 0:00:26\n",
      "   ----- ---------------------------------- 18.3/124.9 MB 4.2 MB/s eta 0:00:26\n",
      "   ----- ---------------------------------- 18.5/124.9 MB 4.1 MB/s eta 0:00:26\n",
      "   ----- ---------------------------------- 18.7/124.9 MB 4.2 MB/s eta 0:00:26\n",
      "   ------ --------------------------------- 18.9/124.9 MB 4.2 MB/s eta 0:00:26\n",
      "   ------ --------------------------------- 19.1/124.9 MB 4.1 MB/s eta 0:00:26\n",
      "   ------ --------------------------------- 19.4/124.9 MB 4.1 MB/s eta 0:00:26\n",
      "   ------ --------------------------------- 19.6/124.9 MB 4.1 MB/s eta 0:00:26\n",
      "   ------ --------------------------------- 19.8/124.9 MB 4.1 MB/s eta 0:00:26\n",
      "   ------ --------------------------------- 20.0/124.9 MB 4.1 MB/s eta 0:00:26\n",
      "   ------ --------------------------------- 20.2/124.9 MB 4.1 MB/s eta 0:00:26\n",
      "   ------ --------------------------------- 20.4/124.9 MB 4.1 MB/s eta 0:00:26\n",
      "   ------ --------------------------------- 20.7/124.9 MB 4.1 MB/s eta 0:00:26\n",
      "   ------ --------------------------------- 20.9/124.9 MB 4.1 MB/s eta 0:00:26\n",
      "   ------ --------------------------------- 21.1/124.9 MB 4.1 MB/s eta 0:00:26\n",
      "   ------ --------------------------------- 21.3/124.9 MB 4.1 MB/s eta 0:00:26\n",
      "   ------ --------------------------------- 21.5/124.9 MB 4.1 MB/s eta 0:00:26\n",
      "   ------ --------------------------------- 21.8/124.9 MB 4.1 MB/s eta 0:00:26\n",
      "   ------- -------------------------------- 22.0/124.9 MB 4.1 MB/s eta 0:00:25\n",
      "   ------- -------------------------------- 22.2/124.9 MB 4.1 MB/s eta 0:00:26\n",
      "   ------- -------------------------------- 22.3/124.9 MB 4.1 MB/s eta 0:00:25\n",
      "   ------- -------------------------------- 22.6/124.9 MB 4.1 MB/s eta 0:00:25\n",
      "   ------- -------------------------------- 22.8/124.9 MB 4.2 MB/s eta 0:00:25\n",
      "   ------- -------------------------------- 23.0/124.9 MB 4.2 MB/s eta 0:00:25\n",
      "   ------- -------------------------------- 23.3/124.9 MB 4.2 MB/s eta 0:00:25\n",
      "   ------- -------------------------------- 23.5/124.9 MB 4.2 MB/s eta 0:00:25\n",
      "   ------- -------------------------------- 23.8/124.9 MB 4.3 MB/s eta 0:00:24\n",
      "   ------- -------------------------------- 24.0/124.9 MB 4.3 MB/s eta 0:00:24\n",
      "   ------- -------------------------------- 24.2/124.9 MB 4.3 MB/s eta 0:00:24\n",
      "   ------- -------------------------------- 24.5/124.9 MB 4.3 MB/s eta 0:00:24\n",
      "   ------- -------------------------------- 24.7/124.9 MB 4.3 MB/s eta 0:00:24\n",
      "   ------- -------------------------------- 24.9/124.9 MB 4.3 MB/s eta 0:00:24\n",
      "   -------- ------------------------------- 25.2/124.9 MB 4.3 MB/s eta 0:00:24\n",
      "   -------- ------------------------------- 25.4/124.9 MB 4.4 MB/s eta 0:00:23\n",
      "   -------- ------------------------------- 25.6/124.9 MB 4.3 MB/s eta 0:00:23\n",
      "   -------- ------------------------------- 25.8/124.9 MB 4.4 MB/s eta 0:00:23\n",
      "   -------- ------------------------------- 26.0/124.9 MB 4.3 MB/s eta 0:00:23\n",
      "   -------- ------------------------------- 26.2/124.9 MB 4.4 MB/s eta 0:00:23\n",
      "   -------- ------------------------------- 26.5/124.9 MB 4.4 MB/s eta 0:00:23\n",
      "   -------- ------------------------------- 26.7/124.9 MB 4.4 MB/s eta 0:00:23\n",
      "   -------- ------------------------------- 27.0/124.9 MB 4.4 MB/s eta 0:00:23\n",
      "   -------- ------------------------------- 27.2/124.9 MB 4.5 MB/s eta 0:00:22\n",
      "   -------- ------------------------------- 27.4/124.9 MB 4.5 MB/s eta 0:00:22\n",
      "   -------- ------------------------------- 27.7/124.9 MB 4.5 MB/s eta 0:00:22\n",
      "   -------- ------------------------------- 27.9/124.9 MB 4.5 MB/s eta 0:00:22\n",
      "   --------- ------------------------------ 28.2/124.9 MB 4.5 MB/s eta 0:00:22\n",
      "   --------- ------------------------------ 28.4/124.9 MB 4.5 MB/s eta 0:00:22\n",
      "   --------- ------------------------------ 28.7/124.9 MB 4.5 MB/s eta 0:00:22\n",
      "   --------- ------------------------------ 28.9/124.9 MB 4.5 MB/s eta 0:00:22\n",
      "   --------- ------------------------------ 29.2/124.9 MB 4.5 MB/s eta 0:00:22\n",
      "   --------- ------------------------------ 29.5/124.9 MB 4.6 MB/s eta 0:00:21\n",
      "   --------- ------------------------------ 29.7/124.9 MB 4.6 MB/s eta 0:00:21\n",
      "   --------- ------------------------------ 30.0/124.9 MB 4.6 MB/s eta 0:00:21\n",
      "   --------- ------------------------------ 30.3/124.9 MB 4.6 MB/s eta 0:00:21\n",
      "   --------- ------------------------------ 30.5/124.9 MB 4.6 MB/s eta 0:00:21\n",
      "   --------- ------------------------------ 30.8/124.9 MB 4.7 MB/s eta 0:00:21\n",
      "   --------- ------------------------------ 30.9/124.9 MB 4.7 MB/s eta 0:00:21\n",
      "   --------- ------------------------------ 31.2/124.9 MB 4.7 MB/s eta 0:00:20\n",
      "   ---------- ----------------------------- 31.5/124.9 MB 4.7 MB/s eta 0:00:20\n",
      "   ---------- ----------------------------- 31.7/124.9 MB 4.7 MB/s eta 0:00:20\n",
      "   ---------- ----------------------------- 31.9/124.9 MB 4.8 MB/s eta 0:00:20\n",
      "   ---------- ----------------------------- 32.3/124.9 MB 4.8 MB/s eta 0:00:20\n",
      "   ---------- ----------------------------- 32.5/124.9 MB 4.8 MB/s eta 0:00:20\n",
      "   ---------- ----------------------------- 32.8/124.9 MB 4.8 MB/s eta 0:00:20\n",
      "   ---------- ----------------------------- 33.0/124.9 MB 4.9 MB/s eta 0:00:19\n",
      "   ---------- ----------------------------- 33.3/124.9 MB 4.9 MB/s eta 0:00:19\n",
      "   ---------- ----------------------------- 33.5/124.9 MB 4.8 MB/s eta 0:00:19\n",
      "   ---------- ----------------------------- 33.8/124.9 MB 4.9 MB/s eta 0:00:19\n",
      "   ---------- ----------------------------- 34.0/124.9 MB 4.9 MB/s eta 0:00:19\n",
      "   ---------- ----------------------------- 34.3/124.9 MB 5.0 MB/s eta 0:00:19\n",
      "   ----------- ---------------------------- 34.6/124.9 MB 5.0 MB/s eta 0:00:19\n",
      "   ----------- ---------------------------- 34.7/124.9 MB 5.0 MB/s eta 0:00:19\n",
      "   ----------- ---------------------------- 35.0/124.9 MB 5.0 MB/s eta 0:00:18\n",
      "   ----------- ---------------------------- 35.3/124.9 MB 5.0 MB/s eta 0:00:18\n",
      "   ----------- ---------------------------- 35.6/124.9 MB 5.0 MB/s eta 0:00:18\n",
      "   ----------- ---------------------------- 35.8/124.9 MB 5.1 MB/s eta 0:00:18\n",
      "   ----------- ---------------------------- 36.1/124.9 MB 5.1 MB/s eta 0:00:18\n",
      "   ----------- ---------------------------- 36.3/124.9 MB 5.1 MB/s eta 0:00:18\n",
      "   ----------- ---------------------------- 36.5/124.9 MB 5.1 MB/s eta 0:00:18\n",
      "   ----------- ---------------------------- 36.8/124.9 MB 5.1 MB/s eta 0:00:18\n",
      "   ----------- ---------------------------- 37.0/124.9 MB 5.1 MB/s eta 0:00:18\n",
      "   ----------- ---------------------------- 37.3/124.9 MB 5.2 MB/s eta 0:00:17\n",
      "   ------------ --------------------------- 37.6/124.9 MB 5.2 MB/s eta 0:00:17\n",
      "   ------------ --------------------------- 37.9/124.9 MB 5.2 MB/s eta 0:00:17\n",
      "   ------------ --------------------------- 38.2/124.9 MB 5.2 MB/s eta 0:00:17\n",
      "   ------------ --------------------------- 38.4/124.9 MB 5.2 MB/s eta 0:00:17\n",
      "   ------------ --------------------------- 38.7/124.9 MB 5.3 MB/s eta 0:00:17\n",
      "   ------------ --------------------------- 39.0/124.9 MB 5.3 MB/s eta 0:00:17\n",
      "   ------------ --------------------------- 39.3/124.9 MB 5.2 MB/s eta 0:00:17\n",
      "   ------------ --------------------------- 39.5/124.9 MB 5.3 MB/s eta 0:00:17\n",
      "   ------------ --------------------------- 39.8/124.9 MB 5.3 MB/s eta 0:00:17\n",
      "   ------------ --------------------------- 40.1/124.9 MB 5.4 MB/s eta 0:00:16\n",
      "   ------------ --------------------------- 40.4/124.9 MB 5.3 MB/s eta 0:00:16\n",
      "   ------------- -------------------------- 40.6/124.9 MB 5.4 MB/s eta 0:00:16\n",
      "   ------------- -------------------------- 40.9/124.9 MB 5.3 MB/s eta 0:00:16\n",
      "   ------------- -------------------------- 41.2/124.9 MB 5.4 MB/s eta 0:00:16\n",
      "   ------------- -------------------------- 41.5/124.9 MB 5.4 MB/s eta 0:00:16\n",
      "   ------------- -------------------------- 41.8/124.9 MB 5.4 MB/s eta 0:00:16\n",
      "   ------------- -------------------------- 42.1/124.9 MB 5.5 MB/s eta 0:00:16\n",
      "   ------------- -------------------------- 42.4/124.9 MB 5.5 MB/s eta 0:00:16\n",
      "   ------------- -------------------------- 42.7/124.9 MB 5.5 MB/s eta 0:00:15\n",
      "   ------------- -------------------------- 43.0/124.9 MB 5.5 MB/s eta 0:00:15\n",
      "   ------------- -------------------------- 43.3/124.9 MB 5.5 MB/s eta 0:00:15\n",
      "   ------------- -------------------------- 43.6/124.9 MB 5.6 MB/s eta 0:00:15\n",
      "   -------------- ------------------------- 43.9/124.9 MB 5.6 MB/s eta 0:00:15\n",
      "   -------------- ------------------------- 44.2/124.9 MB 5.5 MB/s eta 0:00:15\n",
      "   -------------- ------------------------- 44.4/124.9 MB 5.6 MB/s eta 0:00:15\n",
      "   -------------- ------------------------- 44.8/124.9 MB 5.6 MB/s eta 0:00:15\n",
      "   -------------- ------------------------- 45.0/124.9 MB 5.6 MB/s eta 0:00:15\n",
      "   -------------- ------------------------- 45.3/124.9 MB 5.6 MB/s eta 0:00:15\n",
      "   -------------- ------------------------- 45.6/124.9 MB 5.6 MB/s eta 0:00:15\n",
      "   -------------- ------------------------- 45.9/124.9 MB 5.7 MB/s eta 0:00:14\n",
      "   -------------- ------------------------- 46.2/124.9 MB 5.7 MB/s eta 0:00:14\n",
      "   -------------- ------------------------- 46.5/124.9 MB 5.7 MB/s eta 0:00:14\n",
      "   -------------- ------------------------- 46.8/124.9 MB 5.7 MB/s eta 0:00:14\n",
      "   --------------- ------------------------ 47.1/124.9 MB 5.7 MB/s eta 0:00:14\n",
      "   --------------- ------------------------ 47.3/124.9 MB 5.7 MB/s eta 0:00:14\n",
      "   --------------- ------------------------ 47.6/124.9 MB 5.7 MB/s eta 0:00:14\n",
      "   --------------- ------------------------ 47.9/124.9 MB 5.8 MB/s eta 0:00:14\n",
      "   --------------- ------------------------ 48.2/124.9 MB 5.8 MB/s eta 0:00:14\n",
      "   --------------- ------------------------ 48.5/124.9 MB 5.8 MB/s eta 0:00:14\n",
      "   --------------- ------------------------ 48.8/124.9 MB 5.8 MB/s eta 0:00:14\n",
      "   --------------- ------------------------ 49.1/124.9 MB 5.8 MB/s eta 0:00:14\n",
      "   --------------- ------------------------ 49.3/124.9 MB 5.9 MB/s eta 0:00:13\n",
      "   --------------- ------------------------ 49.7/124.9 MB 5.8 MB/s eta 0:00:13\n",
      "   --------------- ------------------------ 49.9/124.9 MB 5.9 MB/s eta 0:00:13\n",
      "   ---------------- ----------------------- 50.2/124.9 MB 5.9 MB/s eta 0:00:13\n",
      "   ---------------- ----------------------- 50.5/124.9 MB 6.0 MB/s eta 0:00:13\n",
      "   ---------------- ----------------------- 50.8/124.9 MB 6.0 MB/s eta 0:00:13\n",
      "   ---------------- ----------------------- 51.1/124.9 MB 6.0 MB/s eta 0:00:13\n",
      "   ---------------- ----------------------- 51.4/124.9 MB 6.0 MB/s eta 0:00:13\n",
      "   ---------------- ----------------------- 51.8/124.9 MB 6.1 MB/s eta 0:00:13\n",
      "   ---------------- ----------------------- 52.1/124.9 MB 6.1 MB/s eta 0:00:13\n",
      "   ---------------- ----------------------- 52.4/124.9 MB 6.1 MB/s eta 0:00:12\n",
      "   ---------------- ----------------------- 52.7/124.9 MB 6.1 MB/s eta 0:00:12\n",
      "   ---------------- ----------------------- 53.0/124.9 MB 6.1 MB/s eta 0:00:12\n",
      "   ----------------- ---------------------- 53.4/124.9 MB 6.1 MB/s eta 0:00:12\n",
      "   ----------------- ---------------------- 53.7/124.9 MB 6.1 MB/s eta 0:00:12\n",
      "   ----------------- ---------------------- 54.0/124.9 MB 6.1 MB/s eta 0:00:12\n",
      "   ----------------- ---------------------- 54.3/124.9 MB 6.2 MB/s eta 0:00:12\n",
      "   ----------------- ---------------------- 54.6/124.9 MB 6.2 MB/s eta 0:00:12\n",
      "   ----------------- ---------------------- 54.9/124.9 MB 6.2 MB/s eta 0:00:12\n",
      "   ----------------- ---------------------- 55.2/124.9 MB 6.2 MB/s eta 0:00:12\n",
      "   ----------------- ---------------------- 55.4/124.9 MB 6.2 MB/s eta 0:00:12\n",
      "   ----------------- ---------------------- 55.4/124.9 MB 6.2 MB/s eta 0:00:12\n",
      "   ----------------- ---------------------- 55.6/124.9 MB 5.9 MB/s eta 0:00:12\n",
      "   ----------------- ---------------------- 55.8/124.9 MB 5.9 MB/s eta 0:00:12\n",
      "   ----------------- ---------------------- 56.0/124.9 MB 5.8 MB/s eta 0:00:12\n",
      "   ------------------ --------------------- 56.2/124.9 MB 5.8 MB/s eta 0:00:12\n",
      "   ------------------ --------------------- 56.5/124.9 MB 5.8 MB/s eta 0:00:12\n",
      "   ------------------ --------------------- 56.7/124.9 MB 5.7 MB/s eta 0:00:12\n",
      "   ------------------ --------------------- 56.9/124.9 MB 5.7 MB/s eta 0:00:12\n",
      "   ------------------ --------------------- 57.2/124.9 MB 5.7 MB/s eta 0:00:12\n",
      "   ------------------ --------------------- 57.4/124.9 MB 5.7 MB/s eta 0:00:12\n",
      "   ------------------ --------------------- 57.6/124.9 MB 5.6 MB/s eta 0:00:12\n",
      "   ------------------ --------------------- 57.9/124.9 MB 5.6 MB/s eta 0:00:12\n",
      "   ------------------ --------------------- 58.2/124.9 MB 5.6 MB/s eta 0:00:12\n",
      "   ------------------ --------------------- 58.4/124.9 MB 5.6 MB/s eta 0:00:12\n",
      "   ------------------ --------------------- 58.7/124.9 MB 5.6 MB/s eta 0:00:12\n",
      "   ------------------ --------------------- 58.9/124.9 MB 5.5 MB/s eta 0:00:12\n",
      "   ------------------ --------------------- 59.2/124.9 MB 5.5 MB/s eta 0:00:12\n",
      "   ------------------- -------------------- 59.4/124.9 MB 5.5 MB/s eta 0:00:12\n",
      "   ------------------- -------------------- 59.7/124.9 MB 5.5 MB/s eta 0:00:12\n",
      "   ------------------- -------------------- 59.9/124.9 MB 5.5 MB/s eta 0:00:12\n",
      "   ------------------- -------------------- 60.2/124.9 MB 5.5 MB/s eta 0:00:12\n",
      "   ------------------- -------------------- 60.5/124.9 MB 5.4 MB/s eta 0:00:13\n",
      "   ------------------- -------------------- 60.7/124.9 MB 5.4 MB/s eta 0:00:12\n",
      "   ------------------- -------------------- 61.0/124.9 MB 5.4 MB/s eta 0:00:12\n",
      "   ------------------- -------------------- 61.3/124.9 MB 5.4 MB/s eta 0:00:12\n",
      "   ------------------- -------------------- 61.6/124.9 MB 5.4 MB/s eta 0:00:12\n",
      "   ------------------- -------------------- 61.9/124.9 MB 5.3 MB/s eta 0:00:12\n",
      "   ------------------- -------------------- 62.2/124.9 MB 5.3 MB/s eta 0:00:12\n",
      "   -------------------- ------------------- 62.5/124.9 MB 5.3 MB/s eta 0:00:12\n",
      "   -------------------- ------------------- 62.8/124.9 MB 5.3 MB/s eta 0:00:12\n",
      "   -------------------- ------------------- 63.0/124.9 MB 5.2 MB/s eta 0:00:12\n",
      "   -------------------- ------------------- 63.4/124.9 MB 5.2 MB/s eta 0:00:12\n",
      "   -------------------- ------------------- 63.7/124.9 MB 5.2 MB/s eta 0:00:12\n",
      "   -------------------- ------------------- 64.0/124.9 MB 5.2 MB/s eta 0:00:12\n",
      "   -------------------- ------------------- 64.3/124.9 MB 5.2 MB/s eta 0:00:12\n",
      "   -------------------- ------------------- 64.6/124.9 MB 5.2 MB/s eta 0:00:12\n",
      "   -------------------- ------------------- 64.9/124.9 MB 5.1 MB/s eta 0:00:12\n",
      "   -------------------- ------------------- 65.2/124.9 MB 5.2 MB/s eta 0:00:12\n",
      "   -------------------- ------------------- 65.5/124.9 MB 5.1 MB/s eta 0:00:12\n",
      "   --------------------- ------------------ 65.8/124.9 MB 5.3 MB/s eta 0:00:12\n",
      "   --------------------- ------------------ 66.0/124.9 MB 5.4 MB/s eta 0:00:11\n",
      "   --------------------- ------------------ 66.4/124.9 MB 5.5 MB/s eta 0:00:11\n",
      "   --------------------- ------------------ 66.6/124.9 MB 5.5 MB/s eta 0:00:11\n",
      "   --------------------- ------------------ 66.9/124.9 MB 5.5 MB/s eta 0:00:11\n",
      "   --------------------- ------------------ 67.2/124.9 MB 5.5 MB/s eta 0:00:11\n",
      "   --------------------- ------------------ 67.6/124.9 MB 5.6 MB/s eta 0:00:11\n",
      "   --------------------- ------------------ 67.9/124.9 MB 5.6 MB/s eta 0:00:11\n",
      "   --------------------- ------------------ 68.2/124.9 MB 5.6 MB/s eta 0:00:11\n",
      "   --------------------- ------------------ 68.5/124.9 MB 5.7 MB/s eta 0:00:10\n",
      "   ---------------------- ----------------- 68.8/124.9 MB 5.7 MB/s eta 0:00:10\n",
      "   ---------------------- ----------------- 69.2/124.9 MB 5.7 MB/s eta 0:00:10\n",
      "   ---------------------- ----------------- 69.6/124.9 MB 5.8 MB/s eta 0:00:10\n",
      "   ---------------------- ----------------- 69.9/124.9 MB 5.8 MB/s eta 0:00:10\n",
      "   ---------------------- ----------------- 70.2/124.9 MB 5.8 MB/s eta 0:00:10\n",
      "   ---------------------- ----------------- 70.5/124.9 MB 5.8 MB/s eta 0:00:10\n",
      "   ---------------------- ----------------- 70.8/124.9 MB 5.9 MB/s eta 0:00:10\n",
      "   ---------------------- ----------------- 71.1/124.9 MB 6.0 MB/s eta 0:00:10\n",
      "   ---------------------- ----------------- 71.4/124.9 MB 6.0 MB/s eta 0:00:09\n",
      "   ---------------------- ----------------- 71.7/124.9 MB 6.0 MB/s eta 0:00:09\n",
      "   ----------------------- ---------------- 72.0/124.9 MB 6.0 MB/s eta 0:00:09\n",
      "   ----------------------- ---------------- 72.3/124.9 MB 6.1 MB/s eta 0:00:09\n",
      "   ----------------------- ---------------- 72.6/124.9 MB 6.1 MB/s eta 0:00:09\n",
      "   ----------------------- ---------------- 72.9/124.9 MB 6.1 MB/s eta 0:00:09\n",
      "   ----------------------- ---------------- 73.2/124.9 MB 6.1 MB/s eta 0:00:09\n",
      "   ----------------------- ---------------- 73.6/124.9 MB 6.1 MB/s eta 0:00:09\n",
      "   ----------------------- ---------------- 73.9/124.9 MB 6.1 MB/s eta 0:00:09\n",
      "   ----------------------- ---------------- 74.3/124.9 MB 6.1 MB/s eta 0:00:09\n",
      "   ----------------------- ---------------- 74.6/124.9 MB 6.2 MB/s eta 0:00:09\n",
      "   ----------------------- ---------------- 74.9/124.9 MB 6.2 MB/s eta 0:00:09\n",
      "   ------------------------ --------------- 75.2/124.9 MB 6.2 MB/s eta 0:00:08\n",
      "   ------------------------ --------------- 75.6/124.9 MB 6.2 MB/s eta 0:00:08\n",
      "   ------------------------ --------------- 75.9/124.9 MB 6.3 MB/s eta 0:00:08\n",
      "   ------------------------ --------------- 76.2/124.9 MB 6.3 MB/s eta 0:00:08\n",
      "   ------------------------ --------------- 76.5/124.9 MB 6.4 MB/s eta 0:00:08\n",
      "   ------------------------ --------------- 76.8/124.9 MB 6.4 MB/s eta 0:00:08\n",
      "   ------------------------ --------------- 77.2/124.9 MB 6.4 MB/s eta 0:00:08\n",
      "   ------------------------ --------------- 77.5/124.9 MB 6.5 MB/s eta 0:00:08\n",
      "   ------------------------ --------------- 77.8/124.9 MB 6.4 MB/s eta 0:00:08\n",
      "   ------------------------- -------------- 78.1/124.9 MB 6.4 MB/s eta 0:00:08\n",
      "   ------------------------- -------------- 78.4/124.9 MB 6.4 MB/s eta 0:00:08\n",
      "   ------------------------- -------------- 78.8/124.9 MB 6.4 MB/s eta 0:00:08\n",
      "   ------------------------- -------------- 79.1/124.9 MB 6.5 MB/s eta 0:00:08\n",
      "   ------------------------- -------------- 79.4/124.9 MB 6.5 MB/s eta 0:00:08\n",
      "   ------------------------- -------------- 79.7/124.9 MB 6.4 MB/s eta 0:00:08\n",
      "   ------------------------- -------------- 80.0/124.9 MB 6.5 MB/s eta 0:00:07\n",
      "   ------------------------- -------------- 80.4/124.9 MB 6.5 MB/s eta 0:00:07\n",
      "   ------------------------- -------------- 80.7/124.9 MB 6.5 MB/s eta 0:00:07\n",
      "   ------------------------- -------------- 81.0/124.9 MB 6.5 MB/s eta 0:00:07\n",
      "   -------------------------- ------------- 81.4/124.9 MB 6.5 MB/s eta 0:00:07\n",
      "   -------------------------- ------------- 81.7/124.9 MB 6.5 MB/s eta 0:00:07\n",
      "   -------------------------- ------------- 82.0/124.9 MB 6.5 MB/s eta 0:00:07\n",
      "   -------------------------- ------------- 82.3/124.9 MB 6.5 MB/s eta 0:00:07\n",
      "   -------------------------- ------------- 82.6/124.9 MB 6.5 MB/s eta 0:00:07\n",
      "   -------------------------- ------------- 83.0/124.9 MB 6.5 MB/s eta 0:00:07\n",
      "   -------------------------- ------------- 83.2/124.9 MB 6.4 MB/s eta 0:00:07\n",
      "   -------------------------- ------------- 83.5/124.9 MB 6.5 MB/s eta 0:00:07\n",
      "   -------------------------- ------------- 83.8/124.9 MB 6.5 MB/s eta 0:00:07\n",
      "   -------------------------- ------------- 84.1/124.9 MB 6.5 MB/s eta 0:00:07\n",
      "   --------------------------- ------------ 84.5/124.9 MB 6.5 MB/s eta 0:00:07\n",
      "   --------------------------- ------------ 84.9/124.9 MB 6.5 MB/s eta 0:00:07\n",
      "   --------------------------- ------------ 85.3/124.9 MB 6.5 MB/s eta 0:00:07\n",
      "   --------------------------- ------------ 85.6/124.9 MB 6.5 MB/s eta 0:00:07\n",
      "   --------------------------- ------------ 85.9/124.9 MB 6.5 MB/s eta 0:00:07\n",
      "   --------------------------- ------------ 86.2/124.9 MB 6.5 MB/s eta 0:00:06\n",
      "   --------------------------- ------------ 86.5/124.9 MB 6.5 MB/s eta 0:00:06\n",
      "   --------------------------- ------------ 86.8/124.9 MB 6.5 MB/s eta 0:00:06\n",
      "   --------------------------- ------------ 87.2/124.9 MB 6.4 MB/s eta 0:00:06\n",
      "   ---------------------------- ----------- 87.4/124.9 MB 6.4 MB/s eta 0:00:06\n",
      "   ---------------------------- ----------- 87.7/124.9 MB 6.4 MB/s eta 0:00:06\n",
      "   ---------------------------- ----------- 88.0/124.9 MB 6.5 MB/s eta 0:00:06\n",
      "   ---------------------------- ----------- 88.4/124.9 MB 6.5 MB/s eta 0:00:06\n",
      "   ---------------------------- ----------- 88.7/124.9 MB 6.5 MB/s eta 0:00:06\n",
      "   ---------------------------- ----------- 89.0/124.9 MB 6.5 MB/s eta 0:00:06\n",
      "   ---------------------------- ----------- 89.3/124.9 MB 6.4 MB/s eta 0:00:06\n",
      "   ---------------------------- ----------- 89.6/124.9 MB 6.4 MB/s eta 0:00:06\n",
      "   ---------------------------- ----------- 89.9/124.9 MB 6.4 MB/s eta 0:00:06\n",
      "   ---------------------------- ----------- 90.2/124.9 MB 6.5 MB/s eta 0:00:06\n",
      "   ----------------------------- ---------- 90.6/124.9 MB 6.5 MB/s eta 0:00:06\n",
      "   ----------------------------- ---------- 90.8/124.9 MB 6.5 MB/s eta 0:00:06\n",
      "   ----------------------------- ---------- 91.1/124.9 MB 6.5 MB/s eta 0:00:06\n",
      "   ----------------------------- ---------- 91.4/124.9 MB 6.5 MB/s eta 0:00:06\n",
      "   ----------------------------- ---------- 91.9/124.9 MB 6.5 MB/s eta 0:00:06\n",
      "   ----------------------------- ---------- 92.2/124.9 MB 6.5 MB/s eta 0:00:06\n",
      "   ----------------------------- ---------- 92.5/124.9 MB 6.5 MB/s eta 0:00:05\n",
      "   ----------------------------- ---------- 92.8/124.9 MB 6.5 MB/s eta 0:00:05\n",
      "   ----------------------------- ---------- 93.2/124.9 MB 6.5 MB/s eta 0:00:05\n",
      "   ----------------------------- ---------- 93.5/124.9 MB 6.5 MB/s eta 0:00:05\n",
      "   ------------------------------ --------- 93.8/124.9 MB 6.5 MB/s eta 0:00:05\n",
      "   ------------------------------ --------- 94.1/124.9 MB 6.5 MB/s eta 0:00:05\n",
      "   ------------------------------ --------- 94.5/124.9 MB 6.6 MB/s eta 0:00:05\n",
      "   ------------------------------ --------- 94.8/124.9 MB 6.5 MB/s eta 0:00:05\n",
      "   ------------------------------ --------- 95.2/124.9 MB 6.5 MB/s eta 0:00:05\n",
      "   ------------------------------ --------- 95.5/124.9 MB 6.5 MB/s eta 0:00:05\n",
      "   ------------------------------ --------- 95.8/124.9 MB 6.5 MB/s eta 0:00:05\n",
      "   ------------------------------ --------- 96.1/124.9 MB 6.6 MB/s eta 0:00:05\n",
      "   ------------------------------ --------- 96.4/124.9 MB 6.6 MB/s eta 0:00:05\n",
      "   ------------------------------- -------- 96.8/124.9 MB 6.6 MB/s eta 0:00:05\n",
      "   ------------------------------- -------- 97.1/124.9 MB 6.8 MB/s eta 0:00:05\n",
      "   ------------------------------- -------- 97.4/124.9 MB 6.7 MB/s eta 0:00:05\n",
      "   ------------------------------- -------- 97.8/124.9 MB 6.6 MB/s eta 0:00:05\n",
      "   ------------------------------- -------- 98.1/124.9 MB 6.7 MB/s eta 0:00:04\n",
      "   ------------------------------- -------- 98.4/124.9 MB 6.7 MB/s eta 0:00:04\n",
      "   ------------------------------- -------- 98.5/124.9 MB 6.8 MB/s eta 0:00:04\n",
      "   ------------------------------- -------- 98.5/124.9 MB 6.4 MB/s eta 0:00:05\n",
      "   ------------------------------- -------- 98.8/124.9 MB 6.4 MB/s eta 0:00:05\n",
      "   ------------------------------- -------- 99.2/124.9 MB 6.4 MB/s eta 0:00:05\n",
      "   ------------------------------- -------- 99.5/124.9 MB 6.4 MB/s eta 0:00:04\n",
      "   ------------------------------- -------- 99.9/124.9 MB 6.5 MB/s eta 0:00:04\n",
      "   -------------------------------- ------- 100.2/124.9 MB 6.5 MB/s eta 0:00:04\n",
      "   -------------------------------- ------- 100.6/124.9 MB 6.5 MB/s eta 0:00:04\n",
      "   -------------------------------- ------- 100.9/124.9 MB 6.5 MB/s eta 0:00:04\n",
      "   -------------------------------- ------- 101.2/124.9 MB 6.5 MB/s eta 0:00:04\n",
      "   -------------------------------- ------- 101.6/124.9 MB 6.5 MB/s eta 0:00:04\n",
      "   -------------------------------- ------- 102.0/124.9 MB 6.5 MB/s eta 0:00:04\n",
      "   -------------------------------- ------- 102.3/124.9 MB 6.5 MB/s eta 0:00:04\n",
      "   -------------------------------- ------- 102.6/124.9 MB 6.5 MB/s eta 0:00:04\n",
      "   -------------------------------- ------- 102.9/124.9 MB 6.5 MB/s eta 0:00:04\n",
      "   --------------------------------- ------ 103.2/124.9 MB 6.5 MB/s eta 0:00:04\n",
      "   --------------------------------- ------ 103.5/124.9 MB 6.5 MB/s eta 0:00:04\n",
      "   --------------------------------- ------ 103.9/124.9 MB 6.5 MB/s eta 0:00:04\n",
      "   --------------------------------- ------ 104.2/124.9 MB 6.4 MB/s eta 0:00:04\n",
      "   --------------------------------- ------ 104.5/124.9 MB 6.4 MB/s eta 0:00:04\n",
      "   --------------------------------- ------ 104.9/124.9 MB 6.4 MB/s eta 0:00:04\n",
      "   --------------------------------- ------ 105.2/124.9 MB 6.5 MB/s eta 0:00:04\n",
      "   --------------------------------- ------ 105.4/124.9 MB 6.4 MB/s eta 0:00:04\n",
      "   --------------------------------- ------ 105.8/124.9 MB 6.4 MB/s eta 0:00:03\n",
      "   ---------------------------------- ----- 106.2/124.9 MB 6.4 MB/s eta 0:00:03\n",
      "   ---------------------------------- ----- 106.5/124.9 MB 6.5 MB/s eta 0:00:03\n",
      "   ---------------------------------- ----- 106.9/124.9 MB 6.5 MB/s eta 0:00:03\n",
      "   ---------------------------------- ----- 107.2/124.9 MB 6.5 MB/s eta 0:00:03\n",
      "   ---------------------------------- ----- 107.6/124.9 MB 6.4 MB/s eta 0:00:03\n",
      "   ---------------------------------- ----- 108.0/124.9 MB 6.4 MB/s eta 0:00:03\n",
      "   ---------------------------------- ----- 108.3/124.9 MB 6.5 MB/s eta 0:00:03\n",
      "   ---------------------------------- ----- 108.7/124.9 MB 6.5 MB/s eta 0:00:03\n",
      "   ---------------------------------- ----- 109.1/124.9 MB 6.8 MB/s eta 0:00:03\n",
      "   ----------------------------------- ---- 109.4/124.9 MB 6.7 MB/s eta 0:00:03\n",
      "   ----------------------------------- ---- 109.7/124.9 MB 6.7 MB/s eta 0:00:03\n",
      "   ----------------------------------- ---- 110.1/124.9 MB 6.7 MB/s eta 0:00:03\n",
      "   ----------------------------------- ---- 110.4/124.9 MB 6.7 MB/s eta 0:00:03\n",
      "   ----------------------------------- ---- 110.8/124.9 MB 6.8 MB/s eta 0:00:03\n",
      "   ----------------------------------- ---- 111.1/124.9 MB 6.7 MB/s eta 0:00:03\n",
      "   ----------------------------------- ---- 111.5/124.9 MB 6.8 MB/s eta 0:00:02\n",
      "   ----------------------------------- ---- 111.9/124.9 MB 6.8 MB/s eta 0:00:02\n",
      "   ----------------------------------- ---- 112.2/124.9 MB 6.8 MB/s eta 0:00:02\n",
      "   ------------------------------------ --- 112.6/124.9 MB 6.8 MB/s eta 0:00:02\n",
      "   ------------------------------------ --- 112.9/124.9 MB 6.7 MB/s eta 0:00:02\n",
      "   ------------------------------------ --- 113.2/124.9 MB 6.8 MB/s eta 0:00:02\n",
      "   ------------------------------------ --- 113.7/124.9 MB 6.9 MB/s eta 0:00:02\n",
      "   ------------------------------------ --- 114.0/124.9 MB 6.9 MB/s eta 0:00:02\n",
      "   ------------------------------------ --- 114.3/124.9 MB 7.0 MB/s eta 0:00:02\n",
      "   ------------------------------------ --- 114.6/124.9 MB 7.0 MB/s eta 0:00:02\n",
      "   ------------------------------------ --- 115.0/124.9 MB 7.0 MB/s eta 0:00:02\n",
      "   ------------------------------------ --- 115.4/124.9 MB 7.0 MB/s eta 0:00:02\n",
      "   ------------------------------------- -- 115.7/124.9 MB 7.2 MB/s eta 0:00:02\n",
      "   ------------------------------------- -- 116.1/124.9 MB 7.1 MB/s eta 0:00:02\n",
      "   ------------------------------------- -- 116.5/124.9 MB 7.0 MB/s eta 0:00:02\n",
      "   ------------------------------------- -- 116.9/124.9 MB 7.1 MB/s eta 0:00:02\n",
      "   ------------------------------------- -- 117.2/124.9 MB 7.0 MB/s eta 0:00:02\n",
      "   ------------------------------------- -- 117.6/124.9 MB 7.2 MB/s eta 0:00:02\n",
      "   ------------------------------------- -- 118.0/124.9 MB 7.2 MB/s eta 0:00:01\n",
      "   ------------------------------------- -- 118.3/124.9 MB 7.1 MB/s eta 0:00:01\n",
      "   -------------------------------------- - 118.7/124.9 MB 7.3 MB/s eta 0:00:01\n",
      "   -------------------------------------- - 119.1/124.9 MB 7.3 MB/s eta 0:00:01\n",
      "   -------------------------------------- - 119.5/124.9 MB 7.3 MB/s eta 0:00:01\n",
      "   -------------------------------------- - 119.9/124.9 MB 7.4 MB/s eta 0:00:01\n",
      "   -------------------------------------- - 120.3/124.9 MB 7.4 MB/s eta 0:00:01\n",
      "   -------------------------------------- - 120.7/124.9 MB 7.4 MB/s eta 0:00:01\n",
      "   -------------------------------------- - 121.0/124.9 MB 7.4 MB/s eta 0:00:01\n",
      "   -------------------------------------- - 121.4/124.9 MB 7.4 MB/s eta 0:00:01\n",
      "   ---------------------------------------  121.8/124.9 MB 7.5 MB/s eta 0:00:01\n",
      "   ---------------------------------------  122.2/124.9 MB 7.5 MB/s eta 0:00:01\n",
      "   ---------------------------------------  122.6/124.9 MB 7.5 MB/s eta 0:00:01\n",
      "   ---------------------------------------  123.0/124.9 MB 7.5 MB/s eta 0:00:01\n",
      "   ---------------------------------------  123.4/124.9 MB 7.6 MB/s eta 0:00:01\n",
      "   ---------------------------------------  123.8/124.9 MB 7.6 MB/s eta 0:00:01\n",
      "   ---------------------------------------  124.2/124.9 MB 7.5 MB/s eta 0:00:01\n",
      "   ---------------------------------------  124.6/124.9 MB 7.6 MB/s eta 0:00:01\n",
      "   ---------------------------------------  124.9/124.9 MB 7.6 MB/s eta 0:00:01\n",
      "   ---------------------------------------  124.9/124.9 MB 7.6 MB/s eta 0:00:01\n",
      "   ---------------------------------------  124.9/124.9 MB 7.6 MB/s eta 0:00:01\n",
      "   ---------------------------------------  124.9/124.9 MB 7.6 MB/s eta 0:00:01\n",
      "   ---------------------------------------  124.9/124.9 MB 7.6 MB/s eta 0:00:01\n",
      "   ---------------------------------------  124.9/124.9 MB 7.6 MB/s eta 0:00:01\n",
      "   ---------------------------------------  124.9/124.9 MB 7.6 MB/s eta 0:00:01\n",
      "   ---------------------------------------  124.9/124.9 MB 7.6 MB/s eta 0:00:01\n",
      "   ---------------------------------------  124.9/124.9 MB 7.6 MB/s eta 0:00:01\n",
      "   ---------------------------------------  124.9/124.9 MB 7.6 MB/s eta 0:00:01\n",
      "   ---------------------------------------  124.9/124.9 MB 7.6 MB/s eta 0:00:01\n",
      "   ---------------------------------------- 124.9/124.9 MB 5.5 MB/s eta 0:00:00\n",
      "Installing collected packages: xgboost\n",
      "Successfully installed xgboost-2.1.0\n",
      "XGBoost's Accuracy is:  0.990909090909091\n",
      "              precision    recall  f1-score   support\n",
      "\n",
      "           0       1.00      1.00      1.00        13\n",
      "           1       1.00      1.00      1.00        17\n",
      "           2       1.00      1.00      1.00        16\n",
      "           3       1.00      1.00      1.00        21\n",
      "           4       1.00      1.00      1.00        21\n",
      "           5       0.96      1.00      0.98        22\n",
      "           6       1.00      1.00      1.00        20\n",
      "           7       1.00      1.00      1.00        18\n",
      "           8       0.93      0.96      0.95        28\n",
      "           9       1.00      1.00      1.00        14\n",
      "          10       0.96      1.00      0.98        23\n",
      "          11       1.00      1.00      1.00        21\n",
      "          12       1.00      1.00      1.00        26\n",
      "          13       1.00      0.95      0.97        19\n",
      "          14       1.00      1.00      1.00        24\n",
      "          15       1.00      1.00      1.00        23\n",
      "          16       1.00      1.00      1.00        29\n",
      "          17       1.00      1.00      1.00        19\n",
      "          18       1.00      1.00      1.00        18\n",
      "          19       1.00      1.00      1.00        17\n",
      "          20       1.00      0.88      0.93        16\n",
      "          21       1.00      1.00      1.00        15\n",
      "\n",
      "    accuracy                           0.99       440\n",
      "   macro avg       0.99      0.99      0.99       440\n",
      "weighted avg       0.99      0.99      0.99       440\n",
      "\n"
     ]
    }
   ],
   "source": [
    "! pip install xgboost\n",
    "import xgboost as xgb\n",
    "XB = xgb.XGBClassifier()\n",
    "XB.fit(Xtrain,Ytrain)\n",
    "\n",
    "predicted_values = XB.predict(Xtest)\n",
    "\n",
    "x = metrics.accuracy_score(Ytest, predicted_values)\n",
    "acc.append(x)\n",
    "model.append('XGBoost')\n",
    "print(\"XGBoost's Accuracy is: \", x)\n",
    "\n",
    "print(classification_report(Ytest,predicted_values))"
   ]
  },
  {
   "cell_type": "code",
   "execution_count": 57,
   "metadata": {},
   "outputs": [
    {
     "data": {
      "text/plain": [
       "array([0.99545455, 0.98863636, 0.99545455, 0.99545455, 0.98863636])"
      ]
     },
     "execution_count": 57,
     "metadata": {},
     "output_type": "execute_result"
    }
   ],
   "source": [
    "# Cross validation score (XGBoost)\n",
    "score = cross_val_score(XB,features,target,cv=5)\n",
    "score"
   ]
  },
  {
   "cell_type": "markdown",
   "metadata": {},
   "source": [
    "### Saving trained XGBoost model"
   ]
  },
  {
   "cell_type": "code",
   "execution_count": 58,
   "metadata": {},
   "outputs": [],
   "source": [
    "import pickle\n",
    "# Dump the trained Naive Bayes classifier with Pickle\n",
    "XB_pkl_filename = '../models/XGBoost.pkl'\n",
    "# Open the file to save as pkl file\n",
    "XB_Model_pkl = open(XB_pkl_filename, 'wb')\n",
    "pickle.dump(XB, XB_Model_pkl)\n",
    "# Close the pickle instances\n",
    "XB_Model_pkl.close()"
   ]
  },
  {
   "cell_type": "markdown",
   "metadata": {},
   "source": [
    "## Accuracy Comparison"
   ]
  },
  {
   "cell_type": "code",
   "execution_count": 59,
   "metadata": {},
   "outputs": [
    {
     "data": {
      "text/plain": [
       "<Axes: title={'center': 'Accuracy Comparison'}, xlabel='Accuracy', ylabel='Algorithm'>"
      ]
     },
     "execution_count": 59,
     "metadata": {},
     "output_type": "execute_result"
    },
    {
     "data": {
      "image/png": "[encoded data removed]",
      "text/plain": [
       "<Figure size 1000x500 with 1 Axes>"
      ]
     },
     "metadata": {},
     "output_type": "display_data"
    }
   ],
   "source": [
    "plt.figure(figsize=[10,5],dpi = 100)\n",
    "plt.title('Accuracy Comparison')\n",
    "plt.xlabel('Accuracy')\n",
    "plt.ylabel('Algorithm')\n",
    "sns.barplot(x = acc,y = model,palette='dark')"
   ]
  },
  {
   "cell_type": "code",
   "execution_count": 60,
   "metadata": {},
   "outputs": [
    {
     "name": "stdout",
     "output_type": "stream",
     "text": [
      "Decision Tree --> 0.9\n",
      "Naive Bayes --> 0.990909090909091\n",
      "SVM --> 0.9795454545454545\n",
      "Logistic Regression --> 0.9522727272727273\n",
      "RF --> 0.990909090909091\n",
      "XGBoost --> 0.990909090909091\n"
     ]
    }
   ],
   "source": [
    "accuracy_models = dict(zip(model, acc))\n",
    "for k, v in accuracy_models.items():\n",
    "    print (k, '-->', v)"
   ]
  },
  {
   "cell_type": "markdown",
   "metadata": {},
   "source": [
    "## Making a prediction"
   ]
  },
  {
   "cell_type": "code",
   "execution_count": 61,
   "metadata": {},
   "outputs": [
    {
     "name": "stdout",
     "output_type": "stream",
     "text": [
      "[5]\n"
     ]
    }
   ],
   "source": [
    "data = np.array([[104,18, 30, 23.603016, 60.3, 6.7, 140.91]])\n",
    "prediction = RF.predict(data)\n",
    "print(prediction)"
   ]
  },
  {
   "cell_type": "code",
   "execution_count": 63,
   "metadata": {},
   "outputs": [
    {
     "name": "stdout",
     "output_type": "stream",
     "text": [
      "[8]\n"
     ]
    }
   ],
   "source": [
    "data = np.array([[83, 45, 60, 28, 70.3, 7.0, 150.9]])\n",
    "prediction = RF.predict(data)\n",
    "print(prediction)"
   ]
  }
 ],
 "metadata": {
  "kernelspec": {
   "display_name": "Python 3",
   "language": "python",
   "name": "python3"
  },
  "language_info": {
   "codemirror_mode": {
    "name": "ipython",
    "version": 3
   },
   "file_extension": ".py",
   "mimetype": "text/x-python",
   "name": "python",
   "nbconvert_exporter": "python",
   "pygments_lexer": "ipython3",
   "version": "3.9.2"
  }
 },
 "nbformat": 4,
 "nbformat_minor": 4
}
